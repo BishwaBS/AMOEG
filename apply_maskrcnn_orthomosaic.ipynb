{
  "nbformat": 4,
  "nbformat_minor": 0,
  "metadata": {
    "colab": {
      "name": "apply_maskrcnn_orthomosaic.ipynb",
      "provenance": [],
      "collapsed_sections": [],
      "authorship_tag": "ABX9TyOwmUPmvv9IA3MBLaG6X86l",
      "include_colab_link": true
    },
    "kernelspec": {
      "name": "python3",
      "display_name": "Python 3"
    },
    "language_info": {
      "name": "python"
    },
    "accelerator": "GPU"
  },
  "cells": [
    {
      "cell_type": "markdown",
      "metadata": {
        "id": "view-in-github",
        "colab_type": "text"
      },
      "source": [
        "<a href=\"https://colab.research.google.com/github/BishwaBS/AMOEG/blob/main/apply_maskrcnn_orthomosaic.ipynb\" target=\"_parent\"><img src=\"https://colab.research.google.com/assets/colab-badge.svg\" alt=\"Open In Colab\"/></a>"
      ]
    },
    {
      "cell_type": "code",
      "metadata": {
        "id": "Vzw5gOH2lrWF"
      },
      "source": [
        "from google.colab import drive\n",
        "drive.mount('/content/drive')"
      ],
      "execution_count": null,
      "outputs": []
    },
    {
      "cell_type": "code",
      "metadata": {
        "id": "zqn1GDxvNQA_"
      },
      "source": [
        "!git clone https://github.com/BishwaBS/AMOEG.git\n"
      ],
      "execution_count": null,
      "outputs": []
    },
    {
      "cell_type": "code",
      "metadata": {
        "id": "PwSBpolpl0hs"
      },
      "source": [
        "#setup your cloned dir as current working directory \n",
        "import os\n",
        "os.chdir(\"AMOEG\")"
      ],
      "execution_count": null,
      "outputs": []
    },
    {
      "cell_type": "code",
      "metadata": {
        "id": "MNp92ZHBy6hI"
      },
      "source": [
        "#install the required packages\n",
        "!pip install -r requirements.txt"
      ],
      "execution_count": null,
      "outputs": []
    },
    {
      "cell_type": "code",
      "metadata": {
        "id": "0XIYg2PBgcf7"
      },
      "source": [
        "#run the model\n",
        "!python apply_maskrcnn_orthomosaic.py --raster_dir \"clipped_plots\" --partition_number 9 --modeldir \"model\" --outputdir \"test\" "
      ],
      "execution_count": null,
      "outputs": []
    }
  ]
}